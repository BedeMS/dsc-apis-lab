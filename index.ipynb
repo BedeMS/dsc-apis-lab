{
 "cells": [
  {
   "cell_type": "markdown",
   "metadata": {},
   "source": [
    "# APIs - Cumulative Lab\n",
    "\n",
    "\n",
    "## Introduction \n",
    "\n",
    "We've seen how the Yelp API works and how to create basic visualizations using Folium. It's time to put those skills to work in order to create a working map! Taking things a step further, you'll also independently explore how to perform pagination in order to retrieve a full results set from the Yelp API.\n",
    "\n",
    "## Objectives\n",
    "\n",
    "You will be able to: \n",
    "\n",
    "* Practice using functions to organize your code\n",
    "* Use pagination to retrieve all results from an API query\n",
    "* Practice parsing data returned from an API query\n",
    "* Practice interpreting visualizations of a dataset\n",
    "* Create maps using Folium"
   ]
  },
  {
   "cell_type": "markdown",
   "metadata": {},
   "source": [
    "## Your Task: Query Yelp for All Businesses in a Category and Analyze the Results\n",
    "\n",
    "![restaurant counter with pizza](images/restaurant_counter.jpg)\n",
    "\n",
    "Photo by <a href=\"https://unsplash.com/@jordanmadrid?utm_source=unsplash&utm_medium=referral&utm_content=creditCopyText\">Jordan Madrid</a> on <a href=\"/s/photos/pizza-restaurant?utm_source=unsplash&utm_medium=referral&utm_content=creditCopyText\">Unsplash</a>"
   ]
  },
  {
   "cell_type": "markdown",
   "metadata": {},
   "source": [
    "### Overview\n",
    "\n",
    "You've now worked with some API calls, but we have yet to see how to retrieve a more complete dataset in a programmatic manner. In this lab, you will write a query of businesses on Yelp, then use *pagination* to retrieve all possible results for that query. Then you will create a summary of your findings, including a Folium map of the geographic locations of those businesses.\n",
    "\n",
    "### Technical Details\n",
    "\n",
    "Returning to the Yelp API, the [documentation](https://www.yelp.com/developers/documentation/v3/business_search) also provides us details regarding the **API limits**. These often include details about the number of requests a user is allowed to make within a specified time limit and the maximum number of results to be returned. In this case, we are told that any request has a **maximum of 50 results per request** and defaults to 20. Furthermore, any search will be limited to a **total of 1000 results**. To retrieve all 1000 of these results, we would have to page through the results piece by piece, retrieving 50 at a time. Processes such as these are often referred to as pagination.\n",
    "\n",
    "Also, be mindful of the **API** ***rate*** **limits**. You can only make **5000 requests per day** and are also can make requests too fast. Start prototyping small before running a loop that could be faulty. You can also use `time.sleep(n)` to add delays. For more details see https://www.yelp.com/developers/documentation/v3/rate_limiting.\n",
    "\n",
    "In this lab, you will define a search and then paginate over the results to retrieve all of the results. You'll then parse these responses as a list of dictionaries (for further exploration) and create a map using Folium to visualize the results geographically.\n",
    "\n",
    "### Requirements\n",
    "\n",
    "#### 1. Make the Initial Request\n",
    "\n",
    "Start by filling in your API key to make the initial request to the business search API. Investigate the structure of the response you get back and start figuring out how you will extract the relevant information.\n",
    "\n",
    "#### 2. Add Pagination\n",
    "\n",
    "Using loops and functions, collect the maximum number of results for your query from the API.\n",
    "\n",
    "#### 3. Perform Exploratory Analysis\n",
    "\n",
    "Interpret visualizations related to the price range, average rating, and number of reviews for all query results.\n",
    "\n",
    "#### 4. Create a Folium Map\n",
    "\n",
    "Using latitude and longitude data, plot the query results on an interactive map."
   ]
  },
  {
   "cell_type": "markdown",
   "metadata": {},
   "source": [
    "## 1. Make the Initial Request\n",
    "\n",
    "### Querying\n",
    "\n",
    "Start by making an initial request to the Yelp API. Your search must include at least 2 parameters: **term** and **location**. For example, you might search for pizza restaurants in NYC. The term and location is up to you but make the request below.\n",
    "\n",
    "Use the `requests` library ([documentation here](https://requests.readthedocs.io/en/master/user/quickstart/#make-a-request)).\n",
    "\n",
    "You'll also need an API key from Yelp. If you haven't done this already, go to the Yelp [Manage App page](https://www.yelp.com/developers/v3/manage_app) and create a new app (after making an account if you haven't already)."
   ]
  },
  {
   "cell_type": "code",
   "execution_count": 55,
   "metadata": {},
   "outputs": [
    {
     "data": {
      "text/plain": [
       "<Response [400]>"
      ]
     },
     "execution_count": 55,
     "metadata": {},
     "output_type": "execute_result"
    }
   ],
   "source": [
    "# Replace None with appropriate code\n",
    "\n",
    "# Import the requests library\n",
    "import requests\n",
    "\n",
    "# Get this from the \"Manage App\" page. Make sure you set them\n",
    "# back to None before pushing this to GitHub, since otherwise\n",
    "# your credentials will be compromised\n",
    "api_key = None\n",
    "\n",
    "# These can be whatever you want! But the solution uses \"pizza\"\n",
    "# and \"New York NY\" if you want to compare your work directly\n",
    "term = \"pizza\"\n",
    "location = \"New York NY\"\n",
    "\n",
    "# Set up params for request\n",
    "url = \"https://api.yelp.com/v3/businesses/search\"\n",
    "headers = {\n",
    "    \"Authorization\": \"Bearer {}\".format(api_key)\n",
    "}\n",
    "url_params = {\n",
    "    \"term\": term.replace(\" \", \"+\"),\n",
    "    \"location\": location.replace(\" \", \"+\")\n",
    "}\n",
    "\n",
    "# Make the request using requests.get, passing in\n",
    "# url, headers=headers, and params=url_params\n",
    "response = requests.get(url, headers=headers, params=url_params)\n",
    "\n",
    "# Confirm we got a 200 response\n",
    "response"
   ]
  },
  {
   "cell_type": "code",
   "execution_count": 3,
   "metadata": {},
   "outputs": [
    {
     "data": {
      "text/plain": [
       "{'businesses': [{'id': 'zj8Lq1T8KIC5zwFief15jg',\n",
       "   'alias': 'prince-street-pizza-new-york-2',\n",
       "   'name': 'Prince Street Pizza',\n",
       "   'image_url': 'https://s3-media2.fl.yelpcdn.com/bphoto/AaCoCIY53sQkaqrquNKRJQ/o.jpg',\n",
       "   'is_closed': False,\n",
       "   'url': 'https://www.yelp.com/biz/prince-street-pizza-new-york-2?adjust_creative=u0ZfXWf38w91ILv5eGxe3w&utm_campaign=yelp_api_v3&utm_medium=api_v3_business_search&utm_source=u0ZfXWf38w91ILv5eGxe3w',\n",
       "   'review_count': 4589,\n",
       "   'categories': [{'alias': 'pizza', 'title': 'Pizza'},\n",
       "    {'alias': 'italian', 'title': 'Italian'}],\n",
       "   'rating': 4.5,\n",
       "   'coordinates': {'latitude': 40.72308755605564,\n",
       "    'longitude': -73.99453001177575},\n",
       "   'transactions': ['pickup', 'delivery'],\n",
       "   'price': '$',\n",
       "   'location': {'address1': '27 Prince St',\n",
       "    'address2': None,\n",
       "    'address3': '',\n",
       "    'city': 'New York',\n",
       "    'zip_code': '10012',\n",
       "    'country': 'US',\n",
       "    'state': 'NY',\n",
       "    'display_address': ['27 Prince St', 'New York, NY 10012']},\n",
       "   'phone': '+12129664100',\n",
       "   'display_phone': '(212) 966-4100',\n",
       "   'distance': 1961.8771417367063},\n",
       "  {'id': 'ysqgdbSrezXgVwER2kQWKA',\n",
       "   'alias': 'julianas-brooklyn-3',\n",
       "   'name': \"Juliana's\",\n",
       "   'image_url': 'https://s3-media2.fl.yelpcdn.com/bphoto/HB5-BoJaVwOP5wLMG57TlA/o.jpg',\n",
       "   'is_closed': False,\n",
       "   'url': 'https://www.yelp.com/biz/julianas-brooklyn-3?adjust_creative=u0ZfXWf38w91ILv5eGxe3w&utm_campaign=yelp_api_v3&utm_medium=api_v3_business_search&utm_source=u0ZfXWf38w91ILv5eGxe3w',\n",
       "   'review_count': 2551,\n",
       "   'categories': [{'alias': 'pizza', 'title': 'Pizza'}],\n",
       "   'rating': 4.5,\n",
       "   'coordinates': {'latitude': 40.70274718768062,\n",
       "    'longitude': -73.99343490196397},\n",
       "   'transactions': ['delivery'],\n",
       "   'price': '$$',\n",
       "   'location': {'address1': '19 Old Fulton St',\n",
       "    'address2': '',\n",
       "    'address3': '',\n",
       "    'city': 'Brooklyn',\n",
       "    'zip_code': '11201',\n",
       "    'country': 'US',\n",
       "    'state': 'NY',\n",
       "    'display_address': ['19 Old Fulton St', 'Brooklyn, NY 11201']},\n",
       "   'phone': '+17185966700',\n",
       "   'display_phone': '(718) 596-6700',\n",
       "   'distance': 308.56984360837544},\n",
       "  {'id': 'v1DHGRNCH9247WLYoaoA9A',\n",
       "   'alias': 'l-industrie-pizzeria-brooklyn',\n",
       "   'name': \"L'industrie Pizzeria\",\n",
       "   'image_url': 'https://s3-media2.fl.yelpcdn.com/bphoto/8p1C3A7klRKSlJsqzcZbfA/o.jpg',\n",
       "   'is_closed': False,\n",
       "   'url': 'https://www.yelp.com/biz/l-industrie-pizzeria-brooklyn?adjust_creative=u0ZfXWf38w91ILv5eGxe3w&utm_campaign=yelp_api_v3&utm_medium=api_v3_business_search&utm_source=u0ZfXWf38w91ILv5eGxe3w',\n",
       "   'review_count': 806,\n",
       "   'categories': [{'alias': 'pizza', 'title': 'Pizza'}],\n",
       "   'rating': 4.5,\n",
       "   'coordinates': {'latitude': 40.71162, 'longitude': -73.95783},\n",
       "   'transactions': ['delivery'],\n",
       "   'price': '$',\n",
       "   'location': {'address1': '254 S 2nd St',\n",
       "    'address2': '',\n",
       "    'address3': '',\n",
       "    'city': 'Brooklyn',\n",
       "    'zip_code': '11211',\n",
       "    'country': 'US',\n",
       "    'state': 'NY',\n",
       "    'display_address': ['254 S 2nd St', 'Brooklyn, NY 11211']},\n",
       "   'phone': '+17185990002',\n",
       "   'display_phone': '(718) 599-0002',\n",
       "   'distance': 3145.016041338447},\n",
       "  {'id': 'WG639VkTjmK5dzydd1BBJA',\n",
       "   'alias': 'rubirosa-new-york-2',\n",
       "   'name': 'Rubirosa',\n",
       "   'image_url': 'https://s3-media4.fl.yelpcdn.com/bphoto/LuSzR8cpVQRofXOT_bMi1A/o.jpg',\n",
       "   'is_closed': False,\n",
       "   'url': 'https://www.yelp.com/biz/rubirosa-new-york-2?adjust_creative=u0ZfXWf38w91ILv5eGxe3w&utm_campaign=yelp_api_v3&utm_medium=api_v3_business_search&utm_source=u0ZfXWf38w91ILv5eGxe3w',\n",
       "   'review_count': 2805,\n",
       "   'categories': [{'alias': 'italian', 'title': 'Italian'},\n",
       "    {'alias': 'pizza', 'title': 'Pizza'}],\n",
       "   'rating': 4.5,\n",
       "   'coordinates': {'latitude': 40.722766, 'longitude': -73.996233},\n",
       "   'transactions': ['pickup'],\n",
       "   'price': '$$',\n",
       "   'location': {'address1': '235 Mulberry St',\n",
       "    'address2': '',\n",
       "    'address3': '',\n",
       "    'city': 'New York',\n",
       "    'zip_code': '10012',\n",
       "    'country': 'US',\n",
       "    'state': 'NY',\n",
       "    'display_address': ['235 Mulberry St', 'New York, NY 10012']},\n",
       "   'phone': '+12129650500',\n",
       "   'display_phone': '(212) 965-0500',\n",
       "   'distance': 1932.9467701334759},\n",
       "  {'id': 'WIhm0W9197f_rRtDziq5qQ',\n",
       "   'alias': 'lombardis-pizza-new-york-4',\n",
       "   'name': \"Lombardi's Pizza\",\n",
       "   'image_url': 'https://s3-media1.fl.yelpcdn.com/bphoto/UZ6V_hobp1KpYDPOHNoCKw/o.jpg',\n",
       "   'is_closed': False,\n",
       "   'url': 'https://www.yelp.com/biz/lombardis-pizza-new-york-4?adjust_creative=u0ZfXWf38w91ILv5eGxe3w&utm_campaign=yelp_api_v3&utm_medium=api_v3_business_search&utm_source=u0ZfXWf38w91ILv5eGxe3w',\n",
       "   'review_count': 6458,\n",
       "   'categories': [{'alias': 'pizza', 'title': 'Pizza'}],\n",
       "   'rating': 4.0,\n",
       "   'coordinates': {'latitude': 40.7215934960083,\n",
       "    'longitude': -73.9955956044561},\n",
       "   'transactions': ['pickup', 'delivery'],\n",
       "   'price': '$$',\n",
       "   'location': {'address1': '32 Spring St',\n",
       "    'address2': '',\n",
       "    'address3': '',\n",
       "    'city': 'New York',\n",
       "    'zip_code': '10012',\n",
       "    'country': 'US',\n",
       "    'state': 'NY',\n",
       "    'display_address': ['32 Spring St', 'New York, NY 10012']},\n",
       "   'phone': '+12129417994',\n",
       "   'display_phone': '(212) 941-7994',\n",
       "   'distance': 1798.9959778083735},\n",
       "  {'id': 'uc5qQMzs96rzjK27epDCug',\n",
       "   'alias': 'joes-pizza-new-york-4',\n",
       "   'name': \"Joe's Pizza\",\n",
       "   'image_url': 'https://s3-media4.fl.yelpcdn.com/bphoto/1TvTRG9HFmEGaTSBMcUBhA/o.jpg',\n",
       "   'is_closed': False,\n",
       "   'url': 'https://www.yelp.com/biz/joes-pizza-new-york-4?adjust_creative=u0ZfXWf38w91ILv5eGxe3w&utm_campaign=yelp_api_v3&utm_medium=api_v3_business_search&utm_source=u0ZfXWf38w91ILv5eGxe3w',\n",
       "   'review_count': 2904,\n",
       "   'categories': [{'alias': 'pizza', 'title': 'Pizza'}],\n",
       "   'rating': 4.0,\n",
       "   'coordinates': {'latitude': 40.73060076, 'longitude': -74.00215997},\n",
       "   'transactions': ['delivery'],\n",
       "   'price': '$',\n",
       "   'location': {'address1': '7 Carmine St',\n",
       "    'address2': '',\n",
       "    'address3': '',\n",
       "    'city': 'New York',\n",
       "    'zip_code': '10014',\n",
       "    'country': 'US',\n",
       "    'state': 'NY',\n",
       "    'display_address': ['7 Carmine St', 'New York, NY 10014']},\n",
       "   'phone': '+12123661182',\n",
       "   'display_phone': '(212) 366-1182',\n",
       "   'distance': 2874.702513677348},\n",
       "  {'id': 'KEEXuHCYhsQJ-zpJhu98bA',\n",
       "   'alias': 'joes-pizza-new-york-148',\n",
       "   'name': \"Joe's Pizza\",\n",
       "   'image_url': 'https://s3-media3.fl.yelpcdn.com/bphoto/RoIB9yMaHtpt31IfDcZMwA/o.jpg',\n",
       "   'is_closed': False,\n",
       "   'url': 'https://www.yelp.com/biz/joes-pizza-new-york-148?adjust_creative=u0ZfXWf38w91ILv5eGxe3w&utm_campaign=yelp_api_v3&utm_medium=api_v3_business_search&utm_source=u0ZfXWf38w91ILv5eGxe3w',\n",
       "   'review_count': 1661,\n",
       "   'categories': [{'alias': 'pizza', 'title': 'Pizza'}],\n",
       "   'rating': 4.0,\n",
       "   'coordinates': {'latitude': 40.7547, 'longitude': -73.98696},\n",
       "   'transactions': ['pickup', 'delivery'],\n",
       "   'price': '$',\n",
       "   'location': {'address1': '1435 Broadway',\n",
       "    'address2': '',\n",
       "    'address3': None,\n",
       "    'city': 'New York',\n",
       "    'zip_code': '10018',\n",
       "    'country': 'US',\n",
       "    'state': 'NY',\n",
       "    'display_address': ['1435 Broadway', 'New York, NY 10018']},\n",
       "   'phone': '+16465594878',\n",
       "   'display_phone': '(646) 559-4878',\n",
       "   'distance': 5508.746902433722},\n",
       "  {'id': '2ggi1luerd3Mf_C82JvCYg',\n",
       "   'alias': 'grimaldis-pizzeria-brooklyn-4',\n",
       "   'name': \"Grimaldi's Pizzeria\",\n",
       "   'image_url': 'https://s3-media1.fl.yelpcdn.com/bphoto/Ek1cwe4Dh74lu2P4BgHsFQ/o.jpg',\n",
       "   'is_closed': False,\n",
       "   'url': 'https://www.yelp.com/biz/grimaldis-pizzeria-brooklyn-4?adjust_creative=u0ZfXWf38w91ILv5eGxe3w&utm_campaign=yelp_api_v3&utm_medium=api_v3_business_search&utm_source=u0ZfXWf38w91ILv5eGxe3w',\n",
       "   'review_count': 4878,\n",
       "   'categories': [{'alias': 'pizza', 'title': 'Pizza'},\n",
       "    {'alias': 'desserts', 'title': 'Desserts'},\n",
       "    {'alias': 'beer_and_wine', 'title': 'Beer, Wine & Spirits'}],\n",
       "   'rating': 3.5,\n",
       "   'coordinates': {'latitude': 40.7026459, 'longitude': -73.9932413},\n",
       "   'transactions': ['pickup', 'delivery'],\n",
       "   'price': '$$',\n",
       "   'location': {'address1': '1 Front St',\n",
       "    'address2': '',\n",
       "    'address3': '',\n",
       "    'city': 'Brooklyn',\n",
       "    'zip_code': '11201',\n",
       "    'country': 'US',\n",
       "    'state': 'NY',\n",
       "    'display_address': ['1 Front St', 'Brooklyn, NY 11201']},\n",
       "   'phone': '+17188584300',\n",
       "   'display_phone': '(718) 858-4300',\n",
       "   'distance': 323.61541267581333},\n",
       "  {'id': 'Q9F2ocrmYuGt1yn3M7MOBw',\n",
       "   'alias': 'lucali-brooklyn-3',\n",
       "   'name': 'Lucali',\n",
       "   'image_url': 'https://s3-media3.fl.yelpcdn.com/bphoto/Yl_eZ_DW_iaumnU-pfSoaw/o.jpg',\n",
       "   'is_closed': False,\n",
       "   'url': 'https://www.yelp.com/biz/lucali-brooklyn-3?adjust_creative=u0ZfXWf38w91ILv5eGxe3w&utm_campaign=yelp_api_v3&utm_medium=api_v3_business_search&utm_source=u0ZfXWf38w91ILv5eGxe3w',\n",
       "   'review_count': 1894,\n",
       "   'categories': [{'alias': 'pizza', 'title': 'Pizza'}],\n",
       "   'rating': 4.0,\n",
       "   'coordinates': {'latitude': 40.681840746711224, 'longitude': -74.0003327},\n",
       "   'transactions': ['delivery'],\n",
       "   'price': '$$',\n",
       "   'location': {'address1': '575 Henry St',\n",
       "    'address2': None,\n",
       "    'address3': '',\n",
       "    'city': 'Brooklyn',\n",
       "    'zip_code': '11231',\n",
       "    'country': 'US',\n",
       "    'state': 'NY',\n",
       "    'display_address': ['575 Henry St', 'Brooklyn, NY 11231']},\n",
       "   'phone': '+17188584086',\n",
       "   'display_phone': '(718) 858-4086',\n",
       "   'distance': 2673.589406211555},\n",
       "  {'id': 'LF1QAuvpfX7KGQlg2zMg6Q',\n",
       "   'alias': 'johns-of-bleecker-street-new-york-2',\n",
       "   'name': \"John's of Bleecker Street\",\n",
       "   'image_url': 'https://s3-media3.fl.yelpcdn.com/bphoto/lB6BtfSBvY2aZ_kUoPWNwg/o.jpg',\n",
       "   'is_closed': False,\n",
       "   'url': 'https://www.yelp.com/biz/johns-of-bleecker-street-new-york-2?adjust_creative=u0ZfXWf38w91ILv5eGxe3w&utm_campaign=yelp_api_v3&utm_medium=api_v3_business_search&utm_source=u0ZfXWf38w91ILv5eGxe3w',\n",
       "   'review_count': 2417,\n",
       "   'categories': [{'alias': 'pizza', 'title': 'Pizza'}],\n",
       "   'rating': 4.0,\n",
       "   'coordinates': {'latitude': 40.73158, 'longitude': -74.00332},\n",
       "   'transactions': ['pickup', 'delivery'],\n",
       "   'price': '$$',\n",
       "   'location': {'address1': '278 Bleecker St',\n",
       "    'address2': '',\n",
       "    'address3': '',\n",
       "    'city': 'New York',\n",
       "    'zip_code': '10014',\n",
       "    'country': 'US',\n",
       "    'state': 'NY',\n",
       "    'display_address': ['278 Bleecker St', 'New York, NY 10014']},\n",
       "   'phone': '+12122431680',\n",
       "   'display_phone': '(212) 243-1680',\n",
       "   'distance': 3010.899021476809},\n",
       "  {'id': '0UdC0VYX6aAvLiOcpR4MVQ',\n",
       "   'alias': 'joes-pizza-new-york-7',\n",
       "   'name': \"Joe's Pizza\",\n",
       "   'image_url': 'https://s3-media3.fl.yelpcdn.com/bphoto/BTCcvlqxlp2MOeK_rHa8lQ/o.jpg',\n",
       "   'is_closed': False,\n",
       "   'url': 'https://www.yelp.com/biz/joes-pizza-new-york-7?adjust_creative=u0ZfXWf38w91ILv5eGxe3w&utm_campaign=yelp_api_v3&utm_medium=api_v3_business_search&utm_source=u0ZfXWf38w91ILv5eGxe3w',\n",
       "   'review_count': 1017,\n",
       "   'categories': [{'alias': 'pizza', 'title': 'Pizza'}],\n",
       "   'rating': 4.0,\n",
       "   'coordinates': {'latitude': 40.73331, 'longitude': -73.98763},\n",
       "   'transactions': ['pickup', 'delivery'],\n",
       "   'price': '$',\n",
       "   'location': {'address1': '150 E 14th St',\n",
       "    'address2': '',\n",
       "    'address3': '',\n",
       "    'city': 'New York',\n",
       "    'zip_code': '10003',\n",
       "    'country': 'US',\n",
       "    'state': 'NY',\n",
       "    'display_address': ['150 E 14th St', 'New York, NY 10003']},\n",
       "   'phone': '+12123889474',\n",
       "   'display_phone': '(212) 388-9474',\n",
       "   'distance': 3140.2631090277323},\n",
       "  {'id': 'UB1mGugr1pvgUUP1eTNXrg',\n",
       "   'alias': 'stone-bridge-pizza-and-salad-new-york',\n",
       "   'name': 'Stone Bridge Pizza & Salad',\n",
       "   'image_url': 'https://s3-media1.fl.yelpcdn.com/bphoto/yfY3OA1Zd1GWBnbeZoWB8w/o.jpg',\n",
       "   'is_closed': False,\n",
       "   'url': 'https://www.yelp.com/biz/stone-bridge-pizza-and-salad-new-york?adjust_creative=u0ZfXWf38w91ILv5eGxe3w&utm_campaign=yelp_api_v3&utm_medium=api_v3_business_search&utm_source=u0ZfXWf38w91ILv5eGxe3w',\n",
       "   'review_count': 311,\n",
       "   'categories': [{'alias': 'pizza', 'title': 'Pizza'},\n",
       "    {'alias': 'salad', 'title': 'Salad'},\n",
       "    {'alias': 'sandwiches', 'title': 'Sandwiches'}],\n",
       "   'rating': 4.5,\n",
       "   'coordinates': {'latitude': 40.75225, 'longitude': -73.98061},\n",
       "   'transactions': ['pickup', 'delivery'],\n",
       "   'price': '$$',\n",
       "   'location': {'address1': '16 E 41st St',\n",
       "    'address2': None,\n",
       "    'address3': '',\n",
       "    'city': 'New York',\n",
       "    'zip_code': '10017',\n",
       "    'country': 'US',\n",
       "    'state': 'NY',\n",
       "    'display_address': ['16 E 41st St', 'New York, NY 10017']},\n",
       "   'phone': '+16467915690',\n",
       "   'display_phone': '(646) 791-5690',\n",
       "   'distance': 5333.518247518763},\n",
       "  {'id': 'hGksyTiHBBdrhbiVjXzWVw',\n",
       "   'alias': 'scarrs-pizza-new-york',\n",
       "   'name': \"Scarr's Pizza\",\n",
       "   'image_url': 'https://s3-media3.fl.yelpcdn.com/bphoto/xonxGJK91P_Ow3iY7olsxA/o.jpg',\n",
       "   'is_closed': False,\n",
       "   'url': 'https://www.yelp.com/biz/scarrs-pizza-new-york?adjust_creative=u0ZfXWf38w91ILv5eGxe3w&utm_campaign=yelp_api_v3&utm_medium=api_v3_business_search&utm_source=u0ZfXWf38w91ILv5eGxe3w',\n",
       "   'review_count': 635,\n",
       "   'categories': [{'alias': 'pizza', 'title': 'Pizza'}],\n",
       "   'rating': 4.0,\n",
       "   'coordinates': {'latitude': 40.71534, 'longitude': -73.9914},\n",
       "   'transactions': ['pickup', 'delivery'],\n",
       "   'price': '$',\n",
       "   'location': {'address1': '22 Orchard St',\n",
       "    'address2': '',\n",
       "    'address3': '',\n",
       "    'city': 'New York',\n",
       "    'zip_code': '10002',\n",
       "    'country': 'US',\n",
       "    'state': 'NY',\n",
       "    'display_address': ['22 Orchard St', 'New York, NY 10002']},\n",
       "   'phone': '+12123343481',\n",
       "   'display_phone': '(212) 334-3481',\n",
       "   'distance': 1125.7843300426755},\n",
       "  {'id': 'i_rg-OLXQbpRUN7O3MeCeA',\n",
       "   'alias': 'piz-zetta-brooklyn-2',\n",
       "   'name': 'Piz-zetta',\n",
       "   'image_url': 'https://s3-media1.fl.yelpcdn.com/bphoto/VmaEn7Pg35T46l01kur-1Q/o.jpg',\n",
       "   'is_closed': False,\n",
       "   'url': 'https://www.yelp.com/biz/piz-zetta-brooklyn-2?adjust_creative=u0ZfXWf38w91ILv5eGxe3w&utm_campaign=yelp_api_v3&utm_medium=api_v3_business_search&utm_source=u0ZfXWf38w91ILv5eGxe3w',\n",
       "   'review_count': 322,\n",
       "   'categories': [{'alias': 'italian', 'title': 'Italian'},\n",
       "    {'alias': 'pizza', 'title': 'Pizza'}],\n",
       "   'rating': 4.5,\n",
       "   'coordinates': {'latitude': 40.69116658201196,\n",
       "    'longitude': -73.99065911521895},\n",
       "   'transactions': ['pickup', 'delivery'],\n",
       "   'price': '$',\n",
       "   'location': {'address1': '90 Livingston St',\n",
       "    'address2': '',\n",
       "    'address3': '',\n",
       "    'city': 'Brooklyn',\n",
       "    'zip_code': '11201',\n",
       "    'country': 'US',\n",
       "    'state': 'NY',\n",
       "    'display_address': ['90 Livingston St', 'Brooklyn, NY 11201']},\n",
       "   'phone': '+17184227878',\n",
       "   'display_phone': '(718) 422-7878',\n",
       "   'distance': 1616.95941062503},\n",
       "  {'id': '16ZnHpuaaBt92XWeJHCC5A',\n",
       "   'alias': 'olio-e-più-new-york-7',\n",
       "   'name': 'Olio e Più',\n",
       "   'image_url': 'https://s3-media3.fl.yelpcdn.com/bphoto/Nn4I1SG0pYmqCyJPlArYOQ/o.jpg',\n",
       "   'is_closed': False,\n",
       "   'url': 'https://www.yelp.com/biz/olio-e-pi%C3%B9-new-york-7?adjust_creative=u0ZfXWf38w91ILv5eGxe3w&utm_campaign=yelp_api_v3&utm_medium=api_v3_business_search&utm_source=u0ZfXWf38w91ILv5eGxe3w',\n",
       "   'review_count': 3760,\n",
       "   'categories': [{'alias': 'pizza', 'title': 'Pizza'},\n",
       "    {'alias': 'italian', 'title': 'Italian'},\n",
       "    {'alias': 'cocktailbars', 'title': 'Cocktail Bars'}],\n",
       "   'rating': 4.5,\n",
       "   'coordinates': {'latitude': 40.733798036104304,\n",
       "    'longitude': -73.99977392649927},\n",
       "   'transactions': ['pickup', 'delivery'],\n",
       "   'price': '$$',\n",
       "   'location': {'address1': '3 Greenwich Ave',\n",
       "    'address2': None,\n",
       "    'address3': '',\n",
       "    'city': 'New York',\n",
       "    'zip_code': '10014',\n",
       "    'country': 'US',\n",
       "    'state': 'NY',\n",
       "    'display_address': ['3 Greenwich Ave', 'New York, NY 10014']},\n",
       "   'phone': '+12122436546',\n",
       "   'display_phone': '(212) 243-6546',\n",
       "   'distance': 3186.3804982206075},\n",
       "  {'id': 'ZLPYcgEeRllSoeWyr7y4Ig',\n",
       "   'alias': 'totonnos-brooklyn',\n",
       "   'name': \"Totonno's\",\n",
       "   'image_url': 'https://s3-media3.fl.yelpcdn.com/bphoto/mPBQXhwtbIZa2ssXNLON_w/o.jpg',\n",
       "   'is_closed': False,\n",
       "   'url': 'https://www.yelp.com/biz/totonnos-brooklyn?adjust_creative=u0ZfXWf38w91ILv5eGxe3w&utm_campaign=yelp_api_v3&utm_medium=api_v3_business_search&utm_source=u0ZfXWf38w91ILv5eGxe3w',\n",
       "   'review_count': 827,\n",
       "   'categories': [{'alias': 'pizza', 'title': 'Pizza'}],\n",
       "   'rating': 4.0,\n",
       "   'coordinates': {'latitude': 40.578913225666966,\n",
       "    'longitude': -73.98383392883555},\n",
       "   'transactions': ['pickup'],\n",
       "   'price': '$$',\n",
       "   'location': {'address1': '1524 Neptune Ave',\n",
       "    'address2': '',\n",
       "    'address3': '',\n",
       "    'city': 'Brooklyn',\n",
       "    'zip_code': '11224',\n",
       "    'country': 'US',\n",
       "    'state': 'NY',\n",
       "    'display_address': ['1524 Neptune Ave', 'Brooklyn, NY 11224']},\n",
       "   'phone': '+17183728606',\n",
       "   'display_phone': '(718) 372-8606',\n",
       "   'distance': 14097.30957825896},\n",
       "  {'id': '4h4Tuuc56YPO6lWfZ1bdSQ',\n",
       "   'alias': 'joes-pizza-new-york-152',\n",
       "   'name': \"Joe's Pizza\",\n",
       "   'image_url': 'https://s3-media2.fl.yelpcdn.com/bphoto/yo5oXK2HmxMnvH_PqeABiA/o.jpg',\n",
       "   'is_closed': False,\n",
       "   'url': 'https://www.yelp.com/biz/joes-pizza-new-york-152?adjust_creative=u0ZfXWf38w91ILv5eGxe3w&utm_campaign=yelp_api_v3&utm_medium=api_v3_business_search&utm_source=u0ZfXWf38w91ILv5eGxe3w',\n",
       "   'review_count': 395,\n",
       "   'categories': [{'alias': 'pizza', 'title': 'Pizza'}],\n",
       "   'rating': 4.0,\n",
       "   'coordinates': {'latitude': 40.7101297729083,\n",
       "    'longitude': -74.0077206864953},\n",
       "   'transactions': ['pickup', 'delivery'],\n",
       "   'price': '$',\n",
       "   'location': {'address1': '124 Fulton St',\n",
       "    'address2': '',\n",
       "    'address3': None,\n",
       "    'city': 'New York',\n",
       "    'zip_code': '10038',\n",
       "    'country': 'US',\n",
       "    'state': 'NY',\n",
       "    'display_address': ['124 Fulton St', 'New York, NY 10038']},\n",
       "   'phone': '+12122670860',\n",
       "   'display_phone': '(212) 267-0860',\n",
       "   'distance': 1245.9428626945232},\n",
       "  {'id': 'm3PS0tIaa0ChcP8Y5S-DrQ',\n",
       "   'alias': 'mamas-too-new-york',\n",
       "   'name': \"MAMA'S TOO!\",\n",
       "   'image_url': 'https://s3-media4.fl.yelpcdn.com/bphoto/-0juREQc3teE6akY7asbyQ/o.jpg',\n",
       "   'is_closed': False,\n",
       "   'url': 'https://www.yelp.com/biz/mamas-too-new-york?adjust_creative=u0ZfXWf38w91ILv5eGxe3w&utm_campaign=yelp_api_v3&utm_medium=api_v3_business_search&utm_source=u0ZfXWf38w91ILv5eGxe3w',\n",
       "   'review_count': 580,\n",
       "   'categories': [{'alias': 'pizza', 'title': 'Pizza'},\n",
       "    {'alias': 'italian', 'title': 'Italian'}],\n",
       "   'rating': 3.5,\n",
       "   'coordinates': {'latitude': 40.80084, 'longitude': -73.96766},\n",
       "   'transactions': ['delivery'],\n",
       "   'price': '$$',\n",
       "   'location': {'address1': '2750 Broadway',\n",
       "    'address2': '',\n",
       "    'address3': None,\n",
       "    'city': 'New York',\n",
       "    'zip_code': '10025',\n",
       "    'country': 'US',\n",
       "    'state': 'NY',\n",
       "    'display_address': ['2750 Broadway', 'New York, NY 10025']},\n",
       "   'phone': '+12125107256',\n",
       "   'display_phone': '(212) 510-7256',\n",
       "   'distance': 10840.163726815497},\n",
       "  {'id': 'pGr5QuQU7Ur5GHLvXbT8bw',\n",
       "   'alias': 'paulie-gees-brooklyn',\n",
       "   'name': \"Paulie Gee's\",\n",
       "   'image_url': 'https://s3-media2.fl.yelpcdn.com/bphoto/1j39J4NABK_RBtO-l90QNg/o.jpg',\n",
       "   'is_closed': False,\n",
       "   'url': 'https://www.yelp.com/biz/paulie-gees-brooklyn?adjust_creative=u0ZfXWf38w91ILv5eGxe3w&utm_campaign=yelp_api_v3&utm_medium=api_v3_business_search&utm_source=u0ZfXWf38w91ILv5eGxe3w',\n",
       "   'review_count': 1325,\n",
       "   'categories': [{'alias': 'pizza', 'title': 'Pizza'}],\n",
       "   'rating': 4.5,\n",
       "   'coordinates': {'latitude': 40.729546, 'longitude': -73.958568},\n",
       "   'transactions': ['delivery'],\n",
       "   'price': '$$',\n",
       "   'location': {'address1': '60 Greenpoint Ave',\n",
       "    'address2': '',\n",
       "    'address3': '',\n",
       "    'city': 'Brooklyn',\n",
       "    'zip_code': '11222',\n",
       "    'country': 'US',\n",
       "    'state': 'NY',\n",
       "    'display_address': ['60 Greenpoint Ave', 'Brooklyn, NY 11222']},\n",
       "   'phone': '+13479873747',\n",
       "   'display_phone': '(347) 987-3747',\n",
       "   'distance': 4027.308250680752},\n",
       "  {'id': 'oJ_XSPZFpvIt6rvheSQl7A',\n",
       "   'alias': 'bleecker-street-pizza-new-york',\n",
       "   'name': 'Bleecker Street Pizza',\n",
       "   'image_url': 'https://s3-media4.fl.yelpcdn.com/bphoto/Rr6QNRVaFHjIRzDV7T8TXw/o.jpg',\n",
       "   'is_closed': False,\n",
       "   'url': 'https://www.yelp.com/biz/bleecker-street-pizza-new-york?adjust_creative=u0ZfXWf38w91ILv5eGxe3w&utm_campaign=yelp_api_v3&utm_medium=api_v3_business_search&utm_source=u0ZfXWf38w91ILv5eGxe3w',\n",
       "   'review_count': 2740,\n",
       "   'categories': [{'alias': 'pizza', 'title': 'Pizza'},\n",
       "    {'alias': 'italian', 'title': 'Italian'}],\n",
       "   'rating': 4.0,\n",
       "   'coordinates': {'latitude': 40.7320627016512,\n",
       "    'longitude': -74.0036552270137},\n",
       "   'transactions': ['pickup', 'delivery'],\n",
       "   'price': '$',\n",
       "   'location': {'address1': '69 7th Ave S',\n",
       "    'address2': None,\n",
       "    'address3': '',\n",
       "    'city': 'New York',\n",
       "    'zip_code': '10014',\n",
       "    'country': 'US',\n",
       "    'state': 'NY',\n",
       "    'display_address': ['69 7th Ave S', 'New York, NY 10014']},\n",
       "   'phone': '+12129244466',\n",
       "   'display_phone': '(212) 924-4466',\n",
       "   'distance': 3073.5742196084057}],\n",
       " 'total': 12100,\n",
       " 'region': {'center': {'longitude': -73.99429321289062,\n",
       "   'latitude': 40.70544486444615}}}"
      ]
     },
     "execution_count": 3,
     "metadata": {},
     "output_type": "execute_result"
    }
   ],
   "source": [
    "# Run this cell without changes\n",
    "\n",
    "# Get the response body in JSON format\n",
    "response_json = response.json()\n",
    "\n",
    "# View the keys\n",
    "response_json"
   ]
  },
  {
   "cell_type": "markdown",
   "metadata": {},
   "source": [
    "### Extracting Data\n",
    "\n",
    "Now, retrieve the value associated with the `'businesses'` key, and inspect its contents."
   ]
  },
  {
   "cell_type": "code",
   "execution_count": 5,
   "metadata": {},
   "outputs": [
    {
     "data": {
      "text/plain": [
       "[{'id': 'zj8Lq1T8KIC5zwFief15jg',\n",
       "  'alias': 'prince-street-pizza-new-york-2',\n",
       "  'name': 'Prince Street Pizza',\n",
       "  'image_url': 'https://s3-media2.fl.yelpcdn.com/bphoto/AaCoCIY53sQkaqrquNKRJQ/o.jpg',\n",
       "  'is_closed': False,\n",
       "  'url': 'https://www.yelp.com/biz/prince-street-pizza-new-york-2?adjust_creative=u0ZfXWf38w91ILv5eGxe3w&utm_campaign=yelp_api_v3&utm_medium=api_v3_business_search&utm_source=u0ZfXWf38w91ILv5eGxe3w',\n",
       "  'review_count': 4589,\n",
       "  'categories': [{'alias': 'pizza', 'title': 'Pizza'},\n",
       "   {'alias': 'italian', 'title': 'Italian'}],\n",
       "  'rating': 4.5,\n",
       "  'coordinates': {'latitude': 40.72308755605564,\n",
       "   'longitude': -73.99453001177575},\n",
       "  'transactions': ['pickup', 'delivery'],\n",
       "  'price': '$',\n",
       "  'location': {'address1': '27 Prince St',\n",
       "   'address2': None,\n",
       "   'address3': '',\n",
       "   'city': 'New York',\n",
       "   'zip_code': '10012',\n",
       "   'country': 'US',\n",
       "   'state': 'NY',\n",
       "   'display_address': ['27 Prince St', 'New York, NY 10012']},\n",
       "  'phone': '+12129664100',\n",
       "  'display_phone': '(212) 966-4100',\n",
       "  'distance': 1961.8771417367063},\n",
       " {'id': 'ysqgdbSrezXgVwER2kQWKA',\n",
       "  'alias': 'julianas-brooklyn-3',\n",
       "  'name': \"Juliana's\",\n",
       "  'image_url': 'https://s3-media2.fl.yelpcdn.com/bphoto/HB5-BoJaVwOP5wLMG57TlA/o.jpg',\n",
       "  'is_closed': False,\n",
       "  'url': 'https://www.yelp.com/biz/julianas-brooklyn-3?adjust_creative=u0ZfXWf38w91ILv5eGxe3w&utm_campaign=yelp_api_v3&utm_medium=api_v3_business_search&utm_source=u0ZfXWf38w91ILv5eGxe3w',\n",
       "  'review_count': 2551,\n",
       "  'categories': [{'alias': 'pizza', 'title': 'Pizza'}],\n",
       "  'rating': 4.5,\n",
       "  'coordinates': {'latitude': 40.70274718768062,\n",
       "   'longitude': -73.99343490196397},\n",
       "  'transactions': ['delivery'],\n",
       "  'price': '$$',\n",
       "  'location': {'address1': '19 Old Fulton St',\n",
       "   'address2': '',\n",
       "   'address3': '',\n",
       "   'city': 'Brooklyn',\n",
       "   'zip_code': '11201',\n",
       "   'country': 'US',\n",
       "   'state': 'NY',\n",
       "   'display_address': ['19 Old Fulton St', 'Brooklyn, NY 11201']},\n",
       "  'phone': '+17185966700',\n",
       "  'display_phone': '(718) 596-6700',\n",
       "  'distance': 308.56984360837544}]"
      ]
     },
     "execution_count": 5,
     "metadata": {},
     "output_type": "execute_result"
    }
   ],
   "source": [
    "# Replace None with appropriate code\n",
    "\n",
    "# Retrieve the value from response_json\n",
    "businesses = response_json['businesses']\n",
    "\n",
    "# View the first 2 records\n",
    "businesses[:2]"
   ]
  },
  {
   "cell_type": "markdown",
   "metadata": {},
   "source": [
    "### Preparing Data\n",
    "\n",
    "Write a function `prepare_data` that takes in a list of dictionaries like `businesses` and returns a copy that has been prepared for analysis:\n",
    "\n",
    "1. The `coordinates` key-value pair has been converted into two separate key-value pairs, `latitude` and `longitude`\n",
    "2. All other key-value pairs except for `name`, `review_count`, `rating`, and `price` have been dropped\n",
    "3. All dictionaries missing one of the relevant keys or containing null values have been dropped\n",
    "\n",
    "In other words, the final keys for each dictionary should be `name`, `review_count`, `rating`, `price`, `latitude`, and `longitude`.\n",
    "\n",
    "Complete the function in the cell below:"
   ]
  },
  {
   "cell_type": "code",
   "execution_count": 44,
   "metadata": {},
   "outputs": [
    {
     "data": {
      "text/plain": [
       "[{'name': 'I Love Panzerotti',\n",
       "  'review_count': 44,\n",
       "  'rating': 4.0,\n",
       "  'latitude': 40.72901,\n",
       "  'longitude': -74.005},\n",
       " {'name': 'Porto Bello',\n",
       "  'review_count': 223,\n",
       "  'rating': 3.5,\n",
       "  'latitude': 40.770352,\n",
       "  'longitude': -73.904303},\n",
       " {'name': 'Sergimmo Salumeria',\n",
       "  'review_count': 715,\n",
       "  'rating': 4.0,\n",
       "  'latitude': 40.754296,\n",
       "  'longitude': -73.995498},\n",
       " {'name': 'Park Italian Gourmet',\n",
       "  'review_count': 217,\n",
       "  'rating': 4.0,\n",
       "  'latitude': 40.7562054271632,\n",
       "  'longitude': -73.9814829826355},\n",
       " {'name': 'Sunny John Pizzeria',\n",
       "  'review_count': 40,\n",
       "  'rating': 4.0,\n",
       "  'latitude': 40.6190419,\n",
       "  'longitude': -73.9226648}]"
      ]
     },
     "execution_count": 44,
     "metadata": {},
     "output_type": "execute_result"
    }
   ],
   "source": [
    "# Replace None with appropriate code\n",
    "\n",
    "\n",
    "# not an efficient function.\n",
    "def prepare_data(data_list):\n",
    "    results = []\n",
    "    for x in data_list:\n",
    "        final = {}\n",
    "        final['name'] = x[\"name\"]\n",
    "        final[\"review_count\"] = x[\"review_count\"]\n",
    "        final[\"rating\"] = x[\"rating\"]\n",
    "        final[\"latitude\"] = x['coordinates']['latitude']\n",
    "        final[\"longitude\"] = x['coordinates']['longitude']\n",
    "#         final[\"price\"] = x['price']\n",
    "        results.append(final)\n",
    "    \n",
    "    return results\n",
    "        \n",
    "    \n",
    "    # Make a new list to hold results\n",
    "#     results = []\n",
    "    \n",
    "#     for business_data in data_list:\n",
    "    \n",
    "#         # Make a new dictionary to hold prepared data for this business\n",
    "#         prepared_data = {}\n",
    "        \n",
    "#         # Extract name, review_count, rating, and price key-value pairs\n",
    "#         # from business_data and add to prepared_data\n",
    "#         # If a key is not present in business_data, add it to prepared_data\n",
    "#         # with an associated value of None\n",
    "#         None\n",
    "    \n",
    "#         # Parse and add latitude and longitude columns\n",
    "#         None\n",
    "        \n",
    "#         # Add to list if all values are present\n",
    "#         if all(prepared_data.values()):\n",
    "#             results.append(prepared_data)\n",
    "    \n",
    "#     return results\n",
    "    \n",
    "# Test out function\n",
    "prepared_businesses = prepare_data(businesses)\n",
    "prepared_businesses[:5]"
   ]
  },
  {
   "cell_type": "markdown",
   "metadata": {},
   "source": [
    "Check that your function created the correct keys:"
   ]
  },
  {
   "cell_type": "code",
   "execution_count": 13,
   "metadata": {},
   "outputs": [],
   "source": [
    "# Run this cell without changes\n",
    "\n",
    "assert sorted(list(prepared_businesses[0].keys())) == ['latitude', 'longitude', 'name', 'price', 'rating', 'review_count']"
   ]
  },
  {
   "cell_type": "markdown",
   "metadata": {},
   "source": [
    "The following code will differ depending on your query, but we expect there to be 20 businesses in the original list, and potentially fewer in the prepared list (if any of them were missing data):"
   ]
  },
  {
   "cell_type": "code",
   "execution_count": 14,
   "metadata": {},
   "outputs": [
    {
     "name": "stdout",
     "output_type": "stream",
     "text": [
      "Original: 20\n",
      "Prepared: 20\n"
     ]
    }
   ],
   "source": [
    "# Run this cell without changes\n",
    "print(\"Original:\", len(businesses))\n",
    "print(\"Prepared:\", len(prepared_businesses))"
   ]
  },
  {
   "cell_type": "markdown",
   "metadata": {},
   "source": [
    "Great! We will reuse this function once we have retrieved the full dataset."
   ]
  },
  {
   "cell_type": "markdown",
   "metadata": {},
   "source": [
    "## 2. Add Pagination\n",
    "\n",
    "Now that you are able to extract information from one page of the response, let's figure out how to request as many pages as possible.\n",
    "\n",
    "### Determining the Total\n",
    "\n",
    "Depending on the number of total results for your query, you will either retrieve all of the results, or just the first 1000 (if there are more than 1000 total).\n",
    "\n",
    "We can find the total number of results using the `\"total\"` key:"
   ]
  },
  {
   "cell_type": "code",
   "execution_count": 15,
   "metadata": {},
   "outputs": [
    {
     "data": {
      "text/plain": [
       "12100"
      ]
     },
     "execution_count": 15,
     "metadata": {},
     "output_type": "execute_result"
    }
   ],
   "source": [
    "# Run this cell without changes\n",
    "response_json[\"total\"]"
   ]
  },
  {
   "cell_type": "markdown",
   "metadata": {},
   "source": [
    "(This is specific to the implementation of the Yelp API. Some APIs will just tell you that there are more pages, or will tell you the number of pages total, rather than the total number of results. If you're not sure, always check the documentation.)\n",
    "\n",
    "In the cell below, assign the variable `total` to either the value shown above (if it is less than 1000), or 1000."
   ]
  },
  {
   "cell_type": "code",
   "execution_count": 16,
   "metadata": {},
   "outputs": [],
   "source": [
    "# Replace None with appropriate code\n",
    "total = 1000"
   ]
  },
  {
   "cell_type": "markdown",
   "metadata": {},
   "source": [
    "### Calculating the Offsets\n",
    "\n",
    "The documentation states in the parameters section:\n",
    "\n",
    "> **Name**: `limit`, **Type:** int, **Description:** Optional. Number of business results to return. By default, it will return 20. Maximum is 50.\n",
    "\n",
    "> **Name**: `offset`, **Type:** int, **Description:** Optional. Offset the list of returned business results by this amount.\n",
    "\n",
    "So, to get the most results with the fewest API calls we want to set a limit of 50 every time. If, say, we wanted to get 210 total results, that would mean:\n",
    "\n",
    "1. Offset of `0` (first 50 records)\n",
    "2. Offset of `50` (second 50 records)\n",
    "3. Offset of `100` (third 50 records)\n",
    "4. Offset of `150` (fourth 50 records)\n",
    "5. Offset of `200` (final 10 records)\n",
    "\n",
    "In the cell below, create a function `get_offsets` that takes in a total and returns a list of offsets for that total. You can assume that there is a limit of 50 every time.\n",
    "\n",
    "*Hint: you can use `range` ([documentation here](https://docs.python.org/3.3/library/stdtypes.html?highlight=range#range)) to do this in one line of code. Just make the returned result is a list.*"
   ]
  },
  {
   "cell_type": "code",
   "execution_count": 27,
   "metadata": {},
   "outputs": [
    {
     "data": {
      "text/plain": [
       "[0, 50, 100, 150]"
      ]
     },
     "execution_count": 27,
     "metadata": {},
     "output_type": "execute_result"
    }
   ],
   "source": [
    "# Replace None with appropriate code\n",
    "def get_offsets(total):\n",
    "    return list(range(0, total, 50))\n",
    "#     \"\"\"\n",
    "#     Get a list of offsets needed to get all pages\n",
    "#     of data up until the total\n",
    "#     \"\"\"\n",
    "#     None\n",
    "\n",
    "get_offsets(200)"
   ]
  },
  {
   "cell_type": "markdown",
   "metadata": {},
   "source": [
    "Check that your function works below:"
   ]
  },
  {
   "cell_type": "code",
   "execution_count": 28,
   "metadata": {},
   "outputs": [],
   "source": [
    "# Run this cell without changes\n",
    "\n",
    "assert get_offsets(200) == [0, 50, 100, 150]\n",
    "assert get_offsets(210) == [0, 50, 100, 150, 200]"
   ]
  },
  {
   "cell_type": "markdown",
   "metadata": {},
   "source": [
    "### Putting It All Together\n",
    "\n",
    "Recall that the following variable has already been declared for you:"
   ]
  },
  {
   "cell_type": "code",
   "execution_count": 29,
   "metadata": {},
   "outputs": [
    {
     "data": {
      "text/plain": [
       "{'term': 'pizza', 'location': 'New+York+NY'}"
      ]
     },
     "execution_count": 29,
     "metadata": {},
     "output_type": "execute_result"
    }
   ],
   "source": [
    "# Run this cell without changes\n",
    "url_params"
   ]
  },
  {
   "cell_type": "markdown",
   "metadata": {},
   "source": [
    "We'll go ahead and also specify that the limit should be 50 every time:"
   ]
  },
  {
   "cell_type": "code",
   "execution_count": 30,
   "metadata": {},
   "outputs": [],
   "source": [
    "# Run this cell without changes\n",
    "url_params[\"limit\"] = 50"
   ]
  },
  {
   "cell_type": "markdown",
   "metadata": {},
   "source": [
    "In order to modify the offset, you'll need to add it to `url_params` with the key `\"offset\"` and whatever value is needed.\n",
    "\n",
    "In the cell below, write code that:\n",
    "\n",
    "* Creates an empty list for the full prepared dataset\n",
    "* Loops over all of the offsets from `get_offsets` and makes an API call each time with the specified offset\n",
    "* Calls `prepare_data` to get a cleaned version of the result of each API call\n",
    "* Extends the full prepared dataset list with each query's prepared dataset"
   ]
  },
  {
   "cell_type": "code",
   "execution_count": 36,
   "metadata": {},
   "outputs": [
    {
     "data": {
      "text/plain": [
       "1000"
      ]
     },
     "execution_count": 36,
     "metadata": {},
     "output_type": "execute_result"
    }
   ],
   "source": [
    "# Replace None with appropriate code\n",
    "\n",
    "# Create an empty list for the full prepared dataset\n",
    "full_dataset = []\n",
    "\n",
    "for offset in get_offsets(total):\n",
    "    # Add or update the \"offset\" key-value pair in url_params\n",
    "    url_params['offset'] = offset\n",
    "    \n",
    "    # Make the query and get the response\n",
    "#     response = requests.get(url, headers=headers, params=url_params)\n",
    "    response = requests.get(url, headers=headers, params=url_params)\n",
    "    \n",
    "    # Get the response body in JSON format\n",
    "    response_json = response.json()\n",
    "    \n",
    "    # Get the list of businesses from the response_json\n",
    "    businesses = response_json[\"businesses\"]\n",
    "    \n",
    "    # Call the prepare_data function to get a list of processed data\n",
    "    prepared_businesses = prepare_data(businesses)\n",
    "    \n",
    "    # Extend full_dataset with this list (don't append, or you'll get\n",
    "    # a list of lists instead of a flat list)\n",
    "    full_dataset.extend(prepared_businesses)\n",
    "\n",
    "# Check the length of the full dataset. It will be up to `total`,\n",
    "# potentially less if there were missing values\n",
    "len(full_dataset)"
   ]
  },
  {
   "cell_type": "markdown",
   "metadata": {},
   "source": [
    "This code may take up to a few minutes to run.\n",
    "\n",
    "If you get an error trying to get the response body in JSON format, try adding `time.sleep(1)` right after the `requests.get` line, so your code will sleep for 1 second between each API call."
   ]
  },
  {
   "cell_type": "markdown",
   "metadata": {},
   "source": [
    "## 3. Perform Exploratory Analysis\n",
    "\n",
    "Take the businesses from the previous question and do an initial exploratory analysis. We have provided some plots for you to interpret:"
   ]
  },
  {
   "cell_type": "code",
   "execution_count": 37,
   "metadata": {},
   "outputs": [
    {
     "ename": "KeyError",
     "evalue": "'price'",
     "output_type": "error",
     "traceback": [
      "\u001b[0;31m---------------------------------------------------------------------------\u001b[0m",
      "\u001b[0;31mKeyError\u001b[0m                                  Traceback (most recent call last)",
      "\u001b[0;32m<ipython-input-37-2c402ae4d6ec>\u001b[0m in \u001b[0;36m<module>\u001b[0;34m\u001b[0m\n\u001b[1;32m     23\u001b[0m \u001b[0;34m\u001b[0m\u001b[0m\n\u001b[1;32m     24\u001b[0m \u001b[0;31m# Plot price distribution\u001b[0m\u001b[0;34m\u001b[0m\u001b[0;34m\u001b[0m\u001b[0;34m\u001b[0m\u001b[0m\n\u001b[0;32m---> 25\u001b[0;31m \u001b[0mall_prices\u001b[0m \u001b[0;34m=\u001b[0m \u001b[0;34m[\u001b[0m\u001b[0mx\u001b[0m\u001b[0;34m[\u001b[0m\u001b[0;34m\"price\"\u001b[0m\u001b[0;34m]\u001b[0m\u001b[0;34m.\u001b[0m\u001b[0mreplace\u001b[0m\u001b[0;34m(\u001b[0m\u001b[0;34m\"$\"\u001b[0m\u001b[0;34m,\u001b[0m \u001b[0;34mr\"\\$\"\u001b[0m\u001b[0;34m)\u001b[0m \u001b[0;32mfor\u001b[0m \u001b[0mx\u001b[0m \u001b[0;32min\u001b[0m \u001b[0mfull_dataset\u001b[0m\u001b[0;34m]\u001b[0m\u001b[0;34m\u001b[0m\u001b[0;34m\u001b[0m\u001b[0m\n\u001b[0m\u001b[1;32m     26\u001b[0m \u001b[0mprice_counter\u001b[0m \u001b[0;34m=\u001b[0m \u001b[0mCounter\u001b[0m\u001b[0;34m(\u001b[0m\u001b[0mall_prices\u001b[0m\u001b[0;34m)\u001b[0m\u001b[0;34m\u001b[0m\u001b[0;34m\u001b[0m\u001b[0m\n\u001b[1;32m     27\u001b[0m \u001b[0mprice_keys\u001b[0m \u001b[0;34m=\u001b[0m \u001b[0msorted\u001b[0m\u001b[0;34m(\u001b[0m\u001b[0mprice_counter\u001b[0m\u001b[0;34m.\u001b[0m\u001b[0mkeys\u001b[0m\u001b[0;34m(\u001b[0m\u001b[0;34m)\u001b[0m\u001b[0;34m)\u001b[0m\u001b[0;34m\u001b[0m\u001b[0;34m\u001b[0m\u001b[0m\n",
      "\u001b[0;32m<ipython-input-37-2c402ae4d6ec>\u001b[0m in \u001b[0;36m<listcomp>\u001b[0;34m(.0)\u001b[0m\n\u001b[1;32m     23\u001b[0m \u001b[0;34m\u001b[0m\u001b[0m\n\u001b[1;32m     24\u001b[0m \u001b[0;31m# Plot price distribution\u001b[0m\u001b[0;34m\u001b[0m\u001b[0;34m\u001b[0m\u001b[0;34m\u001b[0m\u001b[0m\n\u001b[0;32m---> 25\u001b[0;31m \u001b[0mall_prices\u001b[0m \u001b[0;34m=\u001b[0m \u001b[0;34m[\u001b[0m\u001b[0mx\u001b[0m\u001b[0;34m[\u001b[0m\u001b[0;34m\"price\"\u001b[0m\u001b[0;34m]\u001b[0m\u001b[0;34m.\u001b[0m\u001b[0mreplace\u001b[0m\u001b[0;34m(\u001b[0m\u001b[0;34m\"$\"\u001b[0m\u001b[0;34m,\u001b[0m \u001b[0;34mr\"\\$\"\u001b[0m\u001b[0;34m)\u001b[0m \u001b[0;32mfor\u001b[0m \u001b[0mx\u001b[0m \u001b[0;32min\u001b[0m \u001b[0mfull_dataset\u001b[0m\u001b[0;34m]\u001b[0m\u001b[0;34m\u001b[0m\u001b[0;34m\u001b[0m\u001b[0m\n\u001b[0m\u001b[1;32m     26\u001b[0m \u001b[0mprice_counter\u001b[0m \u001b[0;34m=\u001b[0m \u001b[0mCounter\u001b[0m\u001b[0;34m(\u001b[0m\u001b[0mall_prices\u001b[0m\u001b[0;34m)\u001b[0m\u001b[0;34m\u001b[0m\u001b[0;34m\u001b[0m\u001b[0m\n\u001b[1;32m     27\u001b[0m \u001b[0mprice_keys\u001b[0m \u001b[0;34m=\u001b[0m \u001b[0msorted\u001b[0m\u001b[0;34m(\u001b[0m\u001b[0mprice_counter\u001b[0m\u001b[0;34m.\u001b[0m\u001b[0mkeys\u001b[0m\u001b[0;34m(\u001b[0m\u001b[0;34m)\u001b[0m\u001b[0;34m)\u001b[0m\u001b[0;34m\u001b[0m\u001b[0;34m\u001b[0m\u001b[0m\n",
      "\u001b[0;31mKeyError\u001b[0m: 'price'"
     ]
    },
    {
     "data": {
      "image/png": "[encoded data removed]",
      "text/plain": [
       "<Figure size 1152x360 with 3 Axes>"
      ]
     },
     "metadata": {
      "needs_background": "light"
     },
     "output_type": "display_data"
    }
   ],
   "source": [
    "# Run this cell without changes\n",
    "from collections import Counter\n",
    "import matplotlib.pyplot as plt\n",
    "%matplotlib inline\n",
    "\n",
    "fig, (ax1, ax2, ax3) = plt.subplots(ncols=3, figsize=(16, 5))\n",
    "\n",
    "# Plot distribution of number of reviews\n",
    "all_review_counts = [x[\"review_count\"] for x in full_dataset]\n",
    "ax1.hist(all_review_counts)\n",
    "ax1.set_title(\"Review Count Distribution\")\n",
    "ax1.set_xlabel(\"Number of Reviews\")\n",
    "ax1.set_ylabel(\"Number of Businesses\")\n",
    "\n",
    "# Plot rating distribution\n",
    "all_ratings = [x[\"rating\"] for x in full_dataset]\n",
    "rating_counter = Counter(all_ratings)\n",
    "rating_keys = sorted(rating_counter.keys())\n",
    "ax2.bar(rating_keys, [rating_counter[key] for key in rating_keys])\n",
    "ax2.set_title(\"Rating Distribution\")\n",
    "ax2.set_xlabel(\"Rating\")\n",
    "ax2.set_ylabel(\"Number of Businesses\")\n",
    "\n",
    "# Plot price distribution\n",
    "all_prices = [x[\"price\"].replace(\"$\", r\"\\$\") for x in full_dataset]\n",
    "price_counter = Counter(all_prices)\n",
    "price_keys = sorted(price_counter.keys())\n",
    "ax3.bar(price_keys, [price_counter[key] for key in price_keys])\n",
    "ax3.set_title(\"Price Distribution\")\n",
    "ax3.set_xlabel(\"Price Category\")\n",
    "ax3.set_ylabel(\"Number of Businesses\");"
   ]
  },
  {
   "cell_type": "markdown",
   "metadata": {},
   "source": [
    "Describe the distributions displayed above and interpret them in the context of your query. (Your answer may differ from the solution branch depending on your query.)"
   ]
  },
  {
   "cell_type": "code",
   "execution_count": 46,
   "metadata": {},
   "outputs": [
    {
     "data": {
      "text/plain": [
       "'\\nPizza spots in NY are pretty highly rated with an average of 4 or more.\\nAs expected, most businesses have below 2000 reviews.\\n'"
      ]
     },
     "execution_count": 46,
     "metadata": {},
     "output_type": "execute_result"
    }
   ],
   "source": [
    "# Replace None with appropriate text\n",
    "\"\"\"\n",
    "Pizza spots in NY are pretty highly rated with an average of 4 or more.\n",
    "As expected, most businesses have below 2000 reviews.\n",
    "\"\"\""
   ]
  },
  {
   "cell_type": "markdown",
   "metadata": {},
   "source": [
    "In the cell below, we also plot the rating distributions by price. In this setup, a price of one dollar sign is \"lower price\" and everything else is \"higher price\"."
   ]
  },
  {
   "cell_type": "code",
   "execution_count": 47,
   "metadata": {},
   "outputs": [
    {
     "ename": "KeyError",
     "evalue": "'price'",
     "output_type": "error",
     "traceback": [
      "\u001b[0;31m---------------------------------------------------------------------------\u001b[0m",
      "\u001b[0;31mKeyError\u001b[0m                                  Traceback (most recent call last)",
      "\u001b[0;32m<ipython-input-47-20b293d5410d>\u001b[0m in \u001b[0;36m<module>\u001b[0;34m\u001b[0m\n\u001b[1;32m      4\u001b[0m \u001b[0mlower_price\u001b[0m \u001b[0;34m=\u001b[0m \u001b[0;34m[\u001b[0m\u001b[0;34m]\u001b[0m\u001b[0;34m\u001b[0m\u001b[0;34m\u001b[0m\u001b[0m\n\u001b[1;32m      5\u001b[0m \u001b[0;32mfor\u001b[0m \u001b[0mrow\u001b[0m \u001b[0;32min\u001b[0m \u001b[0mfull_dataset\u001b[0m\u001b[0;34m:\u001b[0m\u001b[0;34m\u001b[0m\u001b[0;34m\u001b[0m\u001b[0m\n\u001b[0;32m----> 6\u001b[0;31m     \u001b[0;32mif\u001b[0m \u001b[0mrow\u001b[0m\u001b[0;34m[\u001b[0m\u001b[0;34m\"price\"\u001b[0m\u001b[0;34m]\u001b[0m \u001b[0;34m==\u001b[0m \u001b[0;34m\"$\"\u001b[0m\u001b[0;34m:\u001b[0m\u001b[0;34m\u001b[0m\u001b[0;34m\u001b[0m\u001b[0m\n\u001b[0m\u001b[1;32m      7\u001b[0m         \u001b[0mlower_price\u001b[0m\u001b[0;34m.\u001b[0m\u001b[0mappend\u001b[0m\u001b[0;34m(\u001b[0m\u001b[0mrow\u001b[0m\u001b[0;34m[\u001b[0m\u001b[0;34m\"rating\"\u001b[0m\u001b[0;34m]\u001b[0m\u001b[0;34m)\u001b[0m\u001b[0;34m\u001b[0m\u001b[0;34m\u001b[0m\u001b[0m\n\u001b[1;32m      8\u001b[0m     \u001b[0;32melse\u001b[0m\u001b[0;34m:\u001b[0m\u001b[0;34m\u001b[0m\u001b[0;34m\u001b[0m\u001b[0m\n",
      "\u001b[0;31mKeyError\u001b[0m: 'price'"
     ]
    }
   ],
   "source": [
    "# Run this cell without changes\n",
    "\n",
    "higher_price = []\n",
    "lower_price = []\n",
    "for row in full_dataset:\n",
    "    if row[\"price\"] == \"$\":\n",
    "        lower_price.append(row[\"rating\"])\n",
    "    else:\n",
    "        higher_price.append(row[\"rating\"])\n",
    "        \n",
    "fig, ax = plt.subplots()\n",
    "\n",
    "ax.hist([higher_price, lower_price], label=[\"higher price\", \"lower price\"], density=True)\n",
    "\n",
    "ax.legend();"
   ]
  },
  {
   "cell_type": "markdown",
   "metadata": {},
   "source": [
    "Is a higher price associated with a higher rating? (No need for any additional math/statistics, just interpret what you see in the plot.)"
   ]
  },
  {
   "cell_type": "code",
   "execution_count": 48,
   "metadata": {},
   "outputs": [
    {
     "data": {
      "text/plain": [
       "'\\nPrice initially worked for loading into dataset but is not longer available for some reason.\\n'"
      ]
     },
     "execution_count": 48,
     "metadata": {},
     "output_type": "execute_result"
    }
   ],
   "source": [
    "# Replace None with appropriate text\n",
    "\"\"\"\n",
    "Price initially worked for loading into dataset but is not longer available for some reason.\n",
    "\"\"\""
   ]
  },
  {
   "cell_type": "markdown",
   "metadata": {},
   "source": [
    "Finally, let's look at ratings vs. review counts:"
   ]
  },
  {
   "cell_type": "code",
   "execution_count": 49,
   "metadata": {},
   "outputs": [
    {
     "data": {
      "image/png": "[encoded data removed]",
      "text/plain": [
       "<Figure size 1152x360 with 1 Axes>"
      ]
     },
     "metadata": {
      "needs_background": "light"
     },
     "output_type": "display_data"
    }
   ],
   "source": [
    "# Run this cell without changes\n",
    "fig, ax = plt.subplots(figsize=(16,5))\n",
    "\n",
    "ax.scatter(all_review_counts, all_ratings, alpha=0.2)\n",
    "ax.set_xlabel(\"Number of Reviews\")\n",
    "ax.set_ylabel(\"Rating\")\n",
    "# \"zoom in\" to a subset of review counts\n",
    "ax.set_xlim(left=0, right=1000);"
   ]
  },
  {
   "cell_type": "markdown",
   "metadata": {},
   "source": [
    "Is a higher number of reviews associated with a higher rating?"
   ]
  },
  {
   "cell_type": "code",
   "execution_count": 50,
   "metadata": {},
   "outputs": [
    {
     "data": {
      "text/plain": [
       "'\\nYes, but that could simply be b/c lower reviews are deterring people from visiting the restaurants.\\n'"
      ]
     },
     "execution_count": 50,
     "metadata": {},
     "output_type": "execute_result"
    }
   ],
   "source": [
    "# Replace None with appropriate text\n",
    "\"\"\"\n",
    "Yes, but that could simply be b/c lower reviews are deterring people from visiting the restaurants.\n",
    "\"\"\""
   ]
  },
  {
   "cell_type": "markdown",
   "metadata": {},
   "source": [
    "## 4. Create a Folium Map\n",
    "\n",
    "Make a map using Folium of the businesses you retrieved. Be sure to also add popups to the markers giving some basic information such as name, rating and price.\n",
    "\n",
    "You can center the map around the latitude and longitude of the first item in `full_dataset`."
   ]
  },
  {
   "cell_type": "code",
   "execution_count": 54,
   "metadata": {},
   "outputs": [
    {
     "data": {
      "text/html": [
       "<div style=\"width:100%;\"><div style=\"position:relative;width:100%;height:0;padding-bottom:60%;\"><span style=\"color:#565656\">Make this Notebook Trusted to load map: File -> Trust Notebook</span><iframe src=\"about:blank\" style=\"position:absolute;width:100%;height:100%;left:0;top:0;border:none !important;\" data-html=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 onload=\"this.contentDocument.open();this.contentDocument.write(atob(this.getAttribute('data-html')));this.contentDocument.close();\" allowfullscreen webkitallowfullscreen mozallowfullscreen></iframe></div></div>"
      ],
      "text/plain": [
       "<folium.folium.Map at 0x7fb391e4beb0>"
      ]
     },
     "execution_count": 54,
     "metadata": {},
     "output_type": "execute_result"
    }
   ],
   "source": [
    "# Replace None with appropriate code\n",
    "\n",
    "# Import the library\n",
    "import folium\n",
    "\n",
    "# Set up center latitude and longitude\n",
    "center_lat = full_dataset[0][\"latitude\"]\n",
    "center_long = full_dataset[0][\"longitude\"]\n",
    "\n",
    "# Initialize map with center lat and long\n",
    "# yelp_map = folium.Map([lat, long], zoom_start=20)\n",
    "yelp_map = folium.Map([center_lat, center_long], zoom_start=13)\n",
    "\n",
    "# Adjust this limit to see more or fewer businesses\n",
    "limit=50\n",
    "\n",
    "for business in full_dataset[:limit]:\n",
    "    # Extract information about business\n",
    "    lat = business['latitude']\n",
    "    long = business[\"longitude\"]\n",
    "    name = business['name']\n",
    "    rating = business['rating']\n",
    "    details = \"{}\\nPrice: {} Rating:{}\".format(name,price,rating)\n",
    "    \n",
    "    # Create popup with relevant details\n",
    "#     popup = folium.Popup(popup_text, parse_html=True)\n",
    "#     marker = folium.Marker(location=[lat, long], popup=popup)\n",
    "#     marker.add_to(base_map)\n",
    "    popup = folium.Popup(details, parse_html=True)\n",
    "    \n",
    "    # Create marker with relevant lat/long and popup\n",
    "    marker = folium.Marker(location=[lat, long], popup=popup)\n",
    "    marker.add_to(yelp_map)\n",
    "    \n",
    "yelp_map"
   ]
  },
  {
   "cell_type": "markdown",
   "metadata": {},
   "source": [
    "## Summary\n",
    "\n",
    "Nice work! In this lab, you've made multiple API calls to Yelp in order to paginate through a results set, performing some basic exploratory analysis and then creating a nice interactive map to display the results using Folium! Well done!"
   ]
  }
 ],
 "metadata": {
  "kernelspec": {
   "display_name": "Python 3",
   "language": "python",
   "name": "python3"
  },
  "language_info": {
   "codemirror_mode": {
    "name": "ipython",
    "version": 3
   },
   "file_extension": ".py",
   "mimetype": "text/x-python",
   "name": "python",
   "nbconvert_exporter": "python",
   "pygments_lexer": "ipython3",
   "version": "3.8.5"
  },
  "toc": {
   "base_numbering": 1,
   "nav_menu": {},
   "number_sections": true,
   "sideBar": true,
   "skip_h1_title": false,
   "title_cell": "Table of Contents",
   "title_sidebar": "Contents",
   "toc_cell": false,
   "toc_position": {},
   "toc_section_display": true,
   "toc_window_display": false
  }
 },
 "nbformat": 4,
 "nbformat_minor": 2
}
